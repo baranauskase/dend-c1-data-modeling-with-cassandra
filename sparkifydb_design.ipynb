{
 "cells": [
  {
   "cell_type": "markdown",
   "source": [
    "# Part I. ETL Pipeline for Pre-Processing the Files"
   ],
   "metadata": {}
  },
  {
   "cell_type": "markdown",
   "source": [
    "## PLEASE RUN THE FOLLOWING CODE FOR PRE-PROCESSING THE FILES"
   ],
   "metadata": {}
  },
  {
   "cell_type": "markdown",
   "source": [
    "#### Import Python packages "
   ],
   "metadata": {}
  },
  {
   "cell_type": "code",
   "execution_count": 1,
   "source": [
    "# Import Python packages \n",
    "import pandas as pd\n",
    "import cassandra\n",
    "import re\n",
    "import os\n",
    "import glob\n",
    "import numpy as np\n",
    "import json\n",
    "import csv"
   ],
   "outputs": [],
   "metadata": {}
  },
  {
   "cell_type": "markdown",
   "source": [
    "#### Creating list of filepaths to process original event csv data files"
   ],
   "metadata": {}
  },
  {
   "cell_type": "code",
   "execution_count": 2,
   "source": [
    "# checking your current working directory\n",
    "print(os.getcwd())\n",
    "\n",
    "# Get your current folder and subfolder event data\n",
    "filepath = os.getcwd() + '/event_data'\n",
    "\n",
    "# Create a for loop to create a list of files and collect each filepath\n",
    "for root, dirs, files in os.walk(filepath):\n",
    "    \n",
    "# join the file path and roots with the subdirectories using glob\n",
    "    file_path_list = glob.glob(os.path.join(root,'*'))\n",
    "    #print(file_path_list)"
   ],
   "outputs": [
    {
     "output_type": "stream",
     "name": "stdout",
     "text": [
      "/Users/ebaranauskas/repos/dend-c2-data-modeling-with-cassandra\n"
     ]
    }
   ],
   "metadata": {}
  },
  {
   "cell_type": "markdown",
   "source": [
    "#### Processing the files to create the data file csv that will be used for Apache Casssandra tables"
   ],
   "metadata": {}
  },
  {
   "cell_type": "code",
   "execution_count": 3,
   "source": [
    "# initiating an empty list of rows that will be generated from each file\n",
    "full_data_rows_list = [] \n",
    "    \n",
    "# for every filepath in the file path list \n",
    "for f in file_path_list:\n",
    "\n",
    "    # reading csv file \n",
    "    with open(f, 'r', encoding = 'utf8', newline='') as csvfile: \n",
    "        # creating a csv reader object \n",
    "        csvreader = csv.reader(csvfile) \n",
    "        next(csvreader)\n",
    "        \n",
    "        # extracting each data row one by one and append it        \n",
    "        for line in csvreader:\n",
    "            #print(line)\n",
    "            full_data_rows_list.append(line) \n",
    "            \n",
    "# uncomment the code below if you would like to get total number of rows \n",
    "print(len(full_data_rows_list))\n",
    "# uncomment the code below if you would like to check to see what the list of event data rows will look like\n",
    "#print(full_data_rows_list)\n",
    "\n",
    "# creating a smaller event data csv file called event_datafile_full csv that will be used to insert data into the \\\n",
    "# Apache Cassandra tables\n",
    "csv.register_dialect('myDialect', quoting=csv.QUOTE_ALL, skipinitialspace=True)\n",
    "\n",
    "with open('event_datafile_new.csv', 'w', encoding = 'utf8', newline='') as f:\n",
    "    writer = csv.writer(f, dialect='myDialect')\n",
    "    writer.writerow(['artist','firstName','gender','itemInSession','lastName','length',\\\n",
    "                'level','location','sessionId','song','userId'])\n",
    "    for row in full_data_rows_list:\n",
    "        if (row[0] == ''):\n",
    "            continue\n",
    "        writer.writerow((row[0], row[2], row[3], row[4], row[5], row[6], row[7], row[8], row[12], row[13], row[16]))\n"
   ],
   "outputs": [
    {
     "output_type": "stream",
     "name": "stdout",
     "text": [
      "8056\n"
     ]
    }
   ],
   "metadata": {}
  },
  {
   "cell_type": "code",
   "execution_count": 4,
   "source": [
    "# check the number of rows in your csv file\n",
    "with open('event_datafile_new.csv', 'r', encoding = 'utf8') as f:\n",
    "    print(sum(1 for line in f))"
   ],
   "outputs": [
    {
     "output_type": "stream",
     "name": "stdout",
     "text": [
      "6821\n"
     ]
    }
   ],
   "metadata": {}
  },
  {
   "cell_type": "code",
   "execution_count": 5,
   "source": [
    "# helper function for reading data and parsing numeric fields\n",
    "def gen_parsed_data(file = 'event_datafile_new.csv'):\n",
    "    with open(file, encoding = 'utf8') as f:\n",
    "        csvreader = csv.DictReader(f)\n",
    "        for line in csvreader:\n",
    "            line['userId'] = int(line['userId'])\n",
    "            line['sessionId'] = int(line['sessionId'])\n",
    "            line['itemInSession'] = int(line['itemInSession'])\n",
    "            line['length'] = float(line['length'])\n",
    "            \n",
    "            yield line"
   ],
   "outputs": [],
   "metadata": {}
  },
  {
   "cell_type": "markdown",
   "source": [
    "# Part II. Complete the Apache Cassandra coding portion of your project. \n",
    "\n",
    "## Now you are ready to work with the CSV file titled <font color=red>event_datafile_new.csv</font>, located within the Workspace directory.  The event_datafile_new.csv contains the following columns: \n",
    "- artist \n",
    "- firstName of user\n",
    "- gender of user\n",
    "- item number in session\n",
    "- last name of user\n",
    "- length of the song\n",
    "- level (paid or free song)\n",
    "- location of the user\n",
    "- sessionId\n",
    "- song title\n",
    "- userId\n",
    "\n",
    "The image below is a screenshot of what the denormalized data should appear like in the <font color=red>**event_datafile_new.csv**</font> after the code above is run:<br>\n",
    "\n",
    "<img src=\"images/image_event_datafile_new.jpg\">"
   ],
   "metadata": {}
  },
  {
   "cell_type": "markdown",
   "source": [
    "## Begin writing your Apache Cassandra code in the cells below"
   ],
   "metadata": {}
  },
  {
   "cell_type": "markdown",
   "source": [
    "#### Creating a Cluster"
   ],
   "metadata": {}
  },
  {
   "cell_type": "code",
   "execution_count": 6,
   "source": [
    "# This should make a connection to a Cassandra instance your local machine \n",
    "# (127.0.0.1)\n",
    "\n",
    "from cassandra.cluster import Cluster\n",
    "cluster = Cluster()\n",
    "\n",
    "# To establish connection and begin executing queries, need a session\n",
    "session = cluster.connect()\n",
    "\n",
    "# Helper function for executing queries against session\n",
    "def try_exec_query(q, **kwargs):\n",
    "    try:\n",
    "        res = session.execute(q, kwargs)\n",
    "        return res\n",
    "    except Exception as e:\n",
    "        print(e)\n",
    "        raise\n",
    "\n",
    "# Helper function for inserting data into the given song event table\n",
    "def event_insert_helper(query, recs):\n",
    "    # query = f\"\"\"\n",
    "    #     INSERT INTO {table} (\n",
    "    #         artist,\n",
    "    #         firstName,\n",
    "    #         gender,\n",
    "    #         itemInSession,\n",
    "    #         lastName,\n",
    "    #         length,\n",
    "    #         level,\n",
    "    #         location,\n",
    "    #         sessionId,\n",
    "    #         song,\n",
    "    #         userId\n",
    "    #     ) VALUES (\n",
    "    #         %(artist)s,\n",
    "    #         %(firstName)s,\n",
    "    #         %(gender)s,\n",
    "    #         %(itemInSession)s,\n",
    "    #         %(lastName)s,\n",
    "    #         %(length)s,\n",
    "    #         %(level)s,\n",
    "    #         %(location)s,\n",
    "    #         %(sessionId)s,\n",
    "    #         %(song)s,\n",
    "    #         %(userId)s           \n",
    "    #     )\n",
    "    # \"\"\"    \n",
    "\n",
    "    for r in recs:        \n",
    "        try_exec_query(query, **r)"
   ],
   "outputs": [],
   "metadata": {}
  },
  {
   "cell_type": "markdown",
   "source": [
    "#### Create Keyspace"
   ],
   "metadata": {}
  },
  {
   "cell_type": "code",
   "execution_count": 9,
   "source": [
    "try_exec_query(\"\"\"\n",
    "    CREATE KEYSPACE IF NOT EXISTS sparkifydb\n",
    "    WITH REPLICATION = \n",
    "    {'class': 'SimpleStrategy', 'replication_factor': 1}    \n",
    "\"\"\")"
   ],
   "outputs": [
    {
     "output_type": "execute_result",
     "data": {
      "text/plain": [
       "<cassandra.cluster.ResultSet at 0x124afee20>"
      ]
     },
     "metadata": {},
     "execution_count": 9
    }
   ],
   "metadata": {}
  },
  {
   "cell_type": "markdown",
   "source": [
    "#### Set Keyspace"
   ],
   "metadata": {}
  },
  {
   "cell_type": "code",
   "execution_count": 10,
   "source": [
    "try:\n",
    "    session.set_keyspace('sparkifydb')\n",
    "except Exception as ex:\n",
    "    print(ex)\n",
    "    raise"
   ],
   "outputs": [],
   "metadata": {}
  },
  {
   "cell_type": "markdown",
   "source": [
    "### Now we need to create tables to run the following queries. Remember, with Apache Cassandra you model the database tables on the queries you want to run."
   ],
   "metadata": {}
  },
  {
   "cell_type": "markdown",
   "source": [
    "## Create queries to ask the following three questions of the data\n",
    "\n",
    "### 1. Give me the artist, song title and song's length in the music app history that was heard during  sessionId = 338, and itemInSession  = 4\n",
    "\n",
    "\n",
    "### 2. Give me only the following: name of artist, song (sorted by itemInSession) and user (first and last name) for userid = 10, sessionid = 182\n",
    "    \n",
    "\n",
    "### 3. Give me every user name (first and last) in my music app history who listened to the song 'All Hands Against His Own'\n",
    "\n",
    "\n"
   ],
   "metadata": {}
  },
  {
   "cell_type": "markdown",
   "source": [
    "### Query 1 Solution:  Give me the artist, song title and song's length in the music app history that was heard during sessionId = 338, and itemInSession = 4"
   ],
   "metadata": {}
  },
  {
   "cell_type": "code",
   "execution_count": 11,
   "source": [
    "session_events_create = \"\"\"\n",
    "    CREATE TABLE IF NOT EXISTS session_events (\n",
    "        sessionId BIGINT,\n",
    "        itemInSession INT,\n",
    "        userId BIGINT,\n",
    "        artist TEXT,\n",
    "        song TEXT,\n",
    "        length DOUBLE,        \n",
    "        PRIMARY KEY (sessionId, itemInSession, userId)\n",
    "    )\n",
    "\"\"\"\n",
    "try_exec_query(session_events_create)             "
   ],
   "outputs": [
    {
     "output_type": "execute_result",
     "data": {
      "text/plain": [
       "<cassandra.cluster.ResultSet at 0x105079ca0>"
      ]
     },
     "metadata": {},
     "execution_count": 11
    }
   ],
   "metadata": {}
  },
  {
   "cell_type": "code",
   "execution_count": 10,
   "source": [
    "user_events_insert = \"\"\"\n",
    "    INSERT INTO session_events (\n",
    "        sessionId,\n",
    "        itemInSession,\n",
    "        userId,\n",
    "        artist,\n",
    "        song,\n",
    "        length\n",
    "    ) VALUES (\n",
    "        %(sessionId)s,\n",
    "        %(itemInSession)s,\n",
    "        %(userId)s,\n",
    "        %(artist)s,\n",
    "        %(song)s,\n",
    "        %(length)s          \n",
    "    )\n",
    "\"\"\"\n",
    "\n",
    "for r in recs:        \n",
    "    try_exec_query(query, **r)"
   ],
   "outputs": [],
   "metadata": {
    "scrolled": false
   }
  },
  {
   "cell_type": "markdown",
   "source": [
    "#### Do a SELECT to verify that the data have been inserted into each table"
   ],
   "metadata": {}
  },
  {
   "cell_type": "code",
   "execution_count": 11,
   "source": [
    "session_events_query = \"\"\"\n",
    "    SELECT\n",
    "        artist, song, length\n",
    "    FROM session_events\n",
    "    WHERE sessionId = %(sessionId)s AND itemInSession = %(itemInSession)s\n",
    "\"\"\"\n",
    "\n",
    "rows = try_exec_query(\n",
    "    session_events_query,\n",
    "    sessionId=338,\n",
    "    itemInSession=4\n",
    ")\n",
    "\n",
    "for r in rows:\n",
    "    print(r)"
   ],
   "outputs": [
    {
     "output_type": "stream",
     "name": "stdout",
     "text": [
      "Row(artist='Faithless', song='Music Matters (Mark Knight Dub)', length=495.3073)\n"
     ]
    }
   ],
   "metadata": {
    "scrolled": true
   }
  },
  {
   "cell_type": "markdown",
   "source": [
    "### Query 2 Solution: Give me only the following: name of artist, song (sorted by itemInSession) and user (first and last name) for userid = 10, sessionid = 182"
   ],
   "metadata": {}
  },
  {
   "cell_type": "code",
   "execution_count": 12,
   "source": [
    "user_events_create = \"\"\"\n",
    "    CREATE TABLE IF NOT EXISTS user_events (\n",
    "        artist TEXT,\n",
    "        firstName TEXT,\n",
    "        gender TEXT,\n",
    "        itemInSession INT,\n",
    "        lastName TEXT,\n",
    "        length DOUBLE,\n",
    "        level TEXT,\n",
    "        location TEXT,\n",
    "        sessionId BIGINT,\n",
    "        song TEXT,\n",
    "        userId BIGINT,\n",
    "        PRIMARY KEY (userId, sessionid, itemInSession)\n",
    "    )\n",
    "\"\"\"\n",
    "try_exec_query(user_events_create) "
   ],
   "outputs": [
    {
     "output_type": "execute_result",
     "data": {
      "text/plain": [
       "<cassandra.cluster.ResultSet at 0x1318832b0>"
      ]
     },
     "metadata": {},
     "execution_count": 12
    }
   ],
   "metadata": {}
  },
  {
   "cell_type": "code",
   "execution_count": 13,
   "source": [
    " \n",
    "\n",
    "event_insert_helper('user_events', gen_parsed_data())"
   ],
   "outputs": [],
   "metadata": {}
  },
  {
   "cell_type": "code",
   "execution_count": 14,
   "source": [
    "user_events_query = \"\"\"\n",
    "    SELECT\n",
    "        artist, song\n",
    "    FROM user_events\n",
    "    WHERE userId = %(userId)s AND sessionId = %(sessionId)s\n",
    "\"\"\"\n",
    "\n",
    "rows = try_exec_query(\n",
    "    user_events_query,\n",
    "    userId=10,\n",
    "    sessionId=182\n",
    ")\n",
    "\n",
    "for r in rows:\n",
    "    print(r)"
   ],
   "outputs": [
    {
     "output_type": "stream",
     "name": "stdout",
     "text": [
      "Row(artist='Down To The Bone', song=\"Keep On Keepin' On\")\n",
      "Row(artist='Three Drives', song='Greece 2000')\n",
      "Row(artist='Sebastien Tellier', song='Kilometer')\n",
      "Row(artist='Lonnie Gordon', song='Catch You Baby (Steve Pitron & Max Sanna Radio Edit)')\n"
     ]
    }
   ],
   "metadata": {}
  },
  {
   "cell_type": "markdown",
   "source": [
    "### Query 3: Give me every user name (first and last) in my music app history who listened to the song 'All Hands Against His Own'"
   ],
   "metadata": {}
  },
  {
   "cell_type": "code",
   "execution_count": 15,
   "source": [
    "song_events_create = \"\"\"\n",
    "    CREATE TABLE IF NOT EXISTS song_events (\n",
    "        artist TEXT,\n",
    "        firstName TEXT,\n",
    "        gender TEXT,\n",
    "        itemInSession INT,\n",
    "        lastName TEXT,\n",
    "        length DOUBLE,\n",
    "        level TEXT,\n",
    "        location TEXT,\n",
    "        sessionId BIGINT,\n",
    "        song TEXT,\n",
    "        userId BIGINT,\n",
    "        PRIMARY KEY (song, userId)\n",
    "    )\n",
    "\"\"\"\n",
    "try_exec_query(song_events_create) "
   ],
   "outputs": [
    {
     "output_type": "execute_result",
     "data": {
      "text/plain": [
       "<cassandra.cluster.ResultSet at 0x13185be20>"
      ]
     },
     "metadata": {},
     "execution_count": 15
    }
   ],
   "metadata": {}
  },
  {
   "cell_type": "code",
   "execution_count": 16,
   "source": [
    "event_insert_helper('song_events', gen_parsed_data())"
   ],
   "outputs": [],
   "metadata": {}
  },
  {
   "cell_type": "code",
   "execution_count": 17,
   "source": [
    "user_events_query = \"\"\"\n",
    "    SELECT\n",
    "        firstName, lastName\n",
    "    FROM song_events\n",
    "    WHERE song = %(song)s\n",
    "\"\"\"\n",
    "\n",
    "rows = try_exec_query(\n",
    "    user_events_query,\n",
    "    song='All Hands Against His Own'\n",
    ")\n",
    "\n",
    "for r in rows:\n",
    "    print(r)"
   ],
   "outputs": [
    {
     "output_type": "stream",
     "name": "stdout",
     "text": [
      "Row(firstname='Jacqueline', lastname='Lynch')\n",
      "Row(firstname='Tegan', lastname='Levine')\n",
      "Row(firstname='Sara', lastname='Johnson')\n"
     ]
    }
   ],
   "metadata": {}
  },
  {
   "cell_type": "markdown",
   "source": [
    "### Drop the tables before closing out the sessions"
   ],
   "metadata": {}
  },
  {
   "cell_type": "code",
   "execution_count": 18,
   "source": [
    "try_exec_query('DROP TABLE session_events')\n",
    "try_exec_query('DROP TABLE user_events')\n",
    "try_exec_query('DROP TABLE song_events')"
   ],
   "outputs": [
    {
     "output_type": "execute_result",
     "data": {
      "text/plain": [
       "<cassandra.cluster.ResultSet at 0x131860190>"
      ]
     },
     "metadata": {},
     "execution_count": 18
    }
   ],
   "metadata": {}
  },
  {
   "cell_type": "markdown",
   "source": [
    "### Close the session and cluster connection¶"
   ],
   "metadata": {}
  },
  {
   "cell_type": "code",
   "execution_count": 19,
   "source": [
    "session.shutdown()\n",
    "cluster.shutdown()"
   ],
   "outputs": [],
   "metadata": {}
  }
 ],
 "metadata": {
  "kernelspec": {
   "name": "python3",
   "display_name": "Python 3.9.5 64-bit ('.venv': venv)"
  },
  "language_info": {
   "codemirror_mode": {
    "name": "ipython",
    "version": 3
   },
   "file_extension": ".py",
   "mimetype": "text/x-python",
   "name": "python",
   "nbconvert_exporter": "python",
   "pygments_lexer": "ipython3",
   "version": "3.9.5"
  },
  "interpreter": {
   "hash": "f9fd17fa3b05dbc1569e39bbe99628a7b5d839ec76f671dc43860eae751cc1cd"
  }
 },
 "nbformat": 4,
 "nbformat_minor": 2
}